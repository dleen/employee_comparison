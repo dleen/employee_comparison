{
 "metadata": {
  "name": "company_culture_fit"
 },
 "nbformat": 3,
 "nbformat_minor": 0,
 "worksheets": [
  {
   "cells": [
    {
     "cell_type": "markdown",
     "metadata": {},
     "source": [
      "Company culture fit\n",
      "===================\n",
      "\n",
      "Where do I fit in compared to EnergySavvy employee's linkedin.com profiles?"
     ]
    },
    {
     "cell_type": "markdown",
     "metadata": {},
     "source": [
      "Getting the data\n",
      "----------------\n",
      "\n",
      "### Linkedin.com parser\n",
      "\n",
      "First we import a parser and some small helper functions for linkedin public profiles:"
     ]
    },
    {
     "cell_type": "code",
     "collapsed": false,
     "input": [
      "from linkedin import linkedin_parser as lp\n",
      "from linkedin import linkedin_helpers as lh"
     ],
     "language": "python",
     "metadata": {},
     "outputs": [],
     "prompt_number": 1
    },
    {
     "cell_type": "markdown",
     "metadata": {},
     "source": [
      "### List of employees\n",
      "\n",
      "Let's make a list of employees with at least a resonably complete linkedin.com profile page:"
     ]
    },
    {
     "cell_type": "code",
     "collapsed": false,
     "input": [
      "from employee_data import redfin as rf\n",
      "from employee_data import climate_corp as cc\n",
      "from employee_data import simply_measured as sm\n",
      "from employee_data import energy_savvy as es\n",
      "from employee_data import random_people as rd"
     ],
     "language": "python",
     "metadata": {},
     "outputs": [],
     "prompt_number": 2
    },
    {
     "cell_type": "markdown",
     "metadata": {},
     "source": [
      "For example, here are some redfin people and their urls:"
     ]
    },
    {
     "cell_type": "code",
     "collapsed": false,
     "input": [
      "zip(rf.redfin_people, rf.redfin_urls)[0:5]"
     ],
     "language": "python",
     "metadata": {},
     "outputs": [
      {
       "output_type": "pyout",
       "prompt_number": 3,
       "text": [
        "[('Mark Carr', 'http://www.linkedin.com/in/markcarr'),\n",
        " ('Jim Lamb', 'http://www.linkedin.com/in/jimplamb'),\n",
        " ('Krystin Tate', 'http://www.linkedin.com/in/krystin'),\n",
        " ('Andy Taylor', 'http://www.linkedin.com/in/andyataylor'),\n",
        " ('Taylor Connolly', 'http://www.linkedin.com/in/taylorconnolly')]"
       ]
      }
     ],
     "prompt_number": 3
    },
    {
     "cell_type": "markdown",
     "metadata": {},
     "source": [
      "### Creating the corpus:\n",
      "\n",
      "Pick the companies we want to analyize and write the words used in the linkedin.com profile into a text file of features:"
     ]
    },
    {
     "cell_type": "code",
     "collapsed": false,
     "input": [
      "my_url = ['http://www.linkedin.com/in/dleen']\n",
      "company_urls = [my_url,\n",
      "                es.energysavvy_urls,\n",
      "                #rf.redfin_urls,\n",
      "                #cc.climate_corp_urls,\n",
      "                #sm.simply_measured_urls,\n",
      "                rd.random_urls\n",
      "                ]\n",
      "\n",
      "company_names = ['me',\n",
      "                 'energysavvy',\n",
      "                 #'redfin',\n",
      "                 #'climatecorp',\n",
      "                 #'simplymeasured',\n",
      "                 'random'\n",
      "                 ]\n",
      "\n",
      "file_name = 'people_es_rand.txt'\n",
      "\n",
      "try:\n",
      "    with open(file_name): print(\"File exists! Don't do anything.\")\n",
      "except IOError:\n",
      "    print(\"Writing the corpus (may take a few minutes)\")\n",
      "    with open(file_name, 'w') as f:\n",
      "        for i, c in enumerate(zip(company_urls, company_names), start=0):\n",
      "            lh.write_linkedin_data(f, i, c[0], c[1])\n",
      "            print i, c[0], c[1]\n",
      "    \n",
      "\n",
      "from IPython.core.display import clear_output\n",
      "clear_output()"
     ],
     "language": "python",
     "metadata": {},
     "outputs": [],
     "prompt_number": 4
    },
    {
     "cell_type": "markdown",
     "metadata": {},
     "source": [
      "Analyzing the employees\n",
      "-----------------------\n",
      "\n",
      "### Tfidf"
     ]
    },
    {
     "cell_type": "code",
     "collapsed": false,
     "input": [
      "from sklearn.feature_extraction.text import TfidfVectorizer\n",
      "\n",
      "with open(file_name, 'r') as f:\n",
      "    corpus = []\n",
      "    labels = []\n",
      "    for line in f:\n",
      "        labels.append(int(line[0]))\n",
      "        corpus.append(line[2:])\n",
      "        \n",
      "vectorizer = TfidfVectorizer(min_df=1)\n",
      "tfidf = vectorizer.fit_transform(corpus)\n",
      "feature_names = vectorizer.get_feature_names()\n",
      "labels = np.array(labels) "
     ],
     "language": "python",
     "metadata": {},
     "outputs": [],
     "prompt_number": 5
    },
    {
     "cell_type": "code",
     "collapsed": false,
     "input": [
      "import itertools\n",
      "\n",
      "a = itertools.izip(feature_names, tfidf.data)\n",
      "b = sorted(a, key=lambda x: x[1], reverse=True) \n",
      "print b[:5]\n"
     ],
     "language": "python",
     "metadata": {},
     "outputs": [
      {
       "output_type": "stream",
       "stream": "stdout",
       "text": [
        "[(u'establish', 0.91849356757374445), (u'december', 0.67357084117512678), (u'connections', 0.52273478615269098), (u'biology1987', 0.49391537349761372), (u'berlex', 0.46870255439861963)]\n"
       ]
      }
     ],
     "prompt_number": 6
    },
    {
     "cell_type": "markdown",
     "metadata": {},
     "source": [
      "### PCA"
     ]
    },
    {
     "cell_type": "code",
     "collapsed": false,
     "input": [
      "from sklearn.decomposition import PCA\n",
      "\n",
      "pca = PCA(n_components=2)\n",
      "reduced_data = pca.fit_transform(tfidf.toarray())"
     ],
     "language": "python",
     "metadata": {},
     "outputs": [],
     "prompt_number": 7
    },
    {
     "cell_type": "markdown",
     "metadata": {},
     "source": [
      "### k-Means"
     ]
    },
    {
     "cell_type": "code",
     "collapsed": false,
     "input": [
      "from sklearn.cluster import KMeans\n",
      "\n",
      "kmeans = KMeans(init='k-means++', n_clusters=3)\n",
      "kmeans.fit(reduced_data[1:])"
     ],
     "language": "python",
     "metadata": {},
     "outputs": [
      {
       "output_type": "pyout",
       "prompt_number": 8,
       "text": [
        "KMeans(copy_x=True, init='k-means++', k=None, max_iter=300, n_clusters=3,\n",
        "    n_init=10, n_jobs=1, precompute_distances=True,\n",
        "    random_state=<mtrand.RandomState object at 0x10d86b4c8>, tol=0.0001,\n",
        "    verbose=0)"
       ]
      }
     ],
     "prompt_number": 8
    },
    {
     "cell_type": "markdown",
     "metadata": {},
     "source": [
      "Visualizing the data\n",
      "--------------------\n",
      "\n",
      "### Make a grid"
     ]
    },
    {
     "cell_type": "code",
     "collapsed": false,
     "input": [
      "# Step size of the mesh. Decrease to increase the quality of the VQ.\n",
      "h = 0.01     # point in the mesh [x_min, m_max]x[y_min, y_max].\n",
      "\n",
      "# Plot the decision boundary. For that, we will asign a color to each\n",
      "x_min, x_max = reduced_data[:, 0].min() - 0.1, reduced_data[:, 0].max() + 0.1\n",
      "y_min, y_max = reduced_data[:, 1].min() - 0.1, reduced_data[:, 1].max() + 0.1\n",
      "X, Y = np.meshgrid(np.arange(x_min, x_max, h), np.arange(y_min, y_max, h))\n",
      "\n",
      "# Obtain labels for each point in mesh. Use last trained model.\n",
      "me = kmeans.predict(reduced_data[0])\n",
      "\n",
      "Z = kmeans.predict(np.c_[X.ravel(), Y.ravel()])\n",
      "\n",
      "# Put the result into a color plot\n",
      "Z = Z.reshape(X.shape)"
     ],
     "language": "python",
     "metadata": {},
     "outputs": [],
     "prompt_number": 9
    },
    {
     "cell_type": "markdown",
     "metadata": {},
     "source": [
      "### Plot the data"
     ]
    },
    {
     "cell_type": "code",
     "collapsed": false,
     "input": [
      "figure(figsize=(12, 12))\n",
      "imshow(Z, interpolation='nearest',\n",
      "          extent=(X.min(), X.max(), Y.min(), Y.max()),\n",
      "          cmap=cm.Paired,\n",
      "          aspect='auto', origin='lower')\n",
      "\n",
      "plot(reduced_data[:, 0], reduced_data[:, 1], 'k.', markersize=2)\n",
      "\n",
      "plot(reduced_data[labels == 0, 0],\n",
      "        reduced_data[labels == 0, 1], 'r.', markersize=20)\n",
      "text(reduced_data[0, 0], reduced_data[0, 1], 'David Leen', size=20)\n",
      "\n",
      "plot(reduced_data[labels == 1, 0],\n",
      "        reduced_data[labels == 1, 1], 'b.', markersize=10)\n",
      "#plot(reduced_data[labels == 2, 0],\n",
      "#        reduced_data[labels == 2, 1], 'g.', markersize=10)\n",
      "#plot(reduced_data[labels == 3, 0],\n",
      "#        reduced_data[labels == 3, 1], 'c.', markersize=10)\n",
      "\n",
      "for i, n in enumerate(es.energysavvy_people, start=1):\n",
      "    text(reduced_data[i, 0], reduced_data[i, 1] + 0.01, n,\n",
      "    horizontalalignment='right')\n",
      "    \n",
      "title('Fit-O-Meter based on employee\\'s linkedin.com profiles \\n'\n",
      "        'using K-means clustering', size=20)\n",
      "xlim(x_min, x_max), ylim(y_min + 0.05, y_max - 0.3)\n",
      "xticks(()), yticks(())\n",
      "show()"
     ],
     "language": "python",
     "metadata": {},
     "outputs": [
      {
       "output_type": "display_data",
       "png": "[encoded data removed]",
       "text": [
        "<matplotlib.figure.Figure at 0x10de04a90>"
       ]
      }
     ],
     "prompt_number": 14
    },
    {
     "cell_type": "code",
     "collapsed": false,
     "input": [],
     "language": "python",
     "metadata": {},
     "outputs": [],
     "prompt_number": 10
    }
   ],
   "metadata": {}
  }
 ]
}