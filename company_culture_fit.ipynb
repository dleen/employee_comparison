{
 "metadata": {
  "name": "company_culture_fit"
 },
 "nbformat": 3,
 "nbformat_minor": 0,
 "worksheets": [
  {
   "cells": [
    {
     "cell_type": "markdown",
     "metadata": {},
     "source": [
      "Company culture fit\n",
      "===================\n",
      "\n",
      "I liked the idea of EnergySavvy's Fit-O-Meter but I was wondering where I would fit in compared to the rest of the team. Can we learn something from EnergySavvy employee's linkedin.com profiles?\n",
      "\n",
      "I grabbed some information from other Seattle area startups for comparison.\n",
      "\n",
      "*Scroll to the bottom for the results!* Or read on for the methodology..."
     ]
    },
    {
     "cell_type": "markdown",
     "metadata": {},
     "source": [
      "Grabbing the data\n",
      "----------------\n",
      "\n",
      "### List of employees and Linkedin.com parser\n",
      "\n",
      "First we import a parser and some small helper functions for parsing linkedin public profiles (i.e. urls of the form http://www.linkedin.com/in/username)\n",
      "\n",
      "Let's make a list of employees with at least a resonably complete linkedin.com profile page (we'll use import * as there is nothing but names and urls in the employee_data folder):"
     ]
    },
    {
     "cell_type": "code",
     "collapsed": false,
     "input": [
      "from linkedin import linkedin_parser as lp\n",
      "from linkedin import linkedin_helpers as lh\n",
      "\n",
      "from employee_data.energy_savvy import *\n",
      "from employee_data.climate_corp import *\n",
      "from employee_data.simply_measured import *\n",
      "from employee_data.redfin import *\n",
      "from employee_data.random_people import *"
     ],
     "language": "python",
     "metadata": {},
     "outputs": [],
     "prompt_number": 1
    },
    {
     "cell_type": "markdown",
     "metadata": {},
     "source": [
      "For example, here are some EnergySavvy people and their urls:"
     ]
    },
    {
     "cell_type": "code",
     "collapsed": false,
     "input": [
      "zip(energysavvy_people, energysavvy_urls)[0:5]"
     ],
     "language": "python",
     "metadata": {},
     "outputs": [
      {
       "output_type": "pyout",
       "prompt_number": 2,
       "text": [
        "[('Kalpana Narayanaswamy', 'http://www.linkedin.com/in/kalpanan'),\n",
        " ('William Genge', 'http://www.linkedin.com/in/wgenge'),\n",
        " ('Emily Kraft', 'http://www.linkedin.com/in/kraftemily'),\n",
        " ('Aaron Goldfeder', 'http://www.linkedin.com/in/noseoforliprofile'),\n",
        " ('Rob McGarty', 'http://www.linkedin.com/in/robmcgarty')]"
       ]
      }
     ],
     "prompt_number": 2
    },
    {
     "cell_type": "markdown",
     "metadata": {},
     "source": [
      "### Creating the corpus:\n",
      "\n",
      "We create the data by reading the users linkedin.com profile and write each user as a line:"
     ]
    },
    {
     "cell_type": "code",
     "collapsed": false,
     "input": [
      "my_url = ['http://www.linkedin.com/in/dleen']\n",
      "company_urls = [my_url, energysavvy_urls, climate_corp_urls, \n",
      "                simply_measured_urls, redfin_urls]\n",
      "\n",
      "file_name = 'people_all_norand.txt'\n",
      "\n",
      "try:\n",
      "    with open(file_name): print(\"File exists! Don't do anything.\")\n",
      "except IOError:\n",
      "    print(\"Writing the corpus (may take a few minutes)\")\n",
      "    with open(file_name, 'w') as f:\n",
      "        for i, c in enumerate(company_urls, start=0):\n",
      "            # this function does the profile parsing\n",
      "            lh.write_linkedin_data(f, i, c)\n",
      "\n",
      "from IPython.core.display import clear_output\n",
      "clear_output()"
     ],
     "language": "python",
     "metadata": {},
     "outputs": [],
     "prompt_number": 3
    },
    {
     "cell_type": "markdown",
     "metadata": {},
     "source": [
      "Analyzing the employees\n",
      "-----------------------\n",
      "\n",
      "### Tfidf and weight analysis\n",
      "\n",
      "To convert the text features into a more informative format we term-frequency inverse-document-frequency to weight the more important terms appearing the corpus. For example: if the word 'career' appears in every single document, which it might being linkedin profiles, then the tfidf weighting of this word will be zero."
     ]
    },
    {
     "cell_type": "code",
     "collapsed": false,
     "input": [
      "from sklearn.feature_extraction.text import TfidfVectorizer\n",
      "\n",
      "with open(file_name, 'r') as f:\n",
      "    corpus = []\n",
      "    labels = []\n",
      "    for line in f:\n",
      "        labels.append(int(line[0]))\n",
      "        corpus.append(line[2:])\n",
      "        \n",
      "labels = np.array(labels)\n",
      "vectorizer = TfidfVectorizer(min_df=1)\n",
      "tfidf = vectorizer.fit_transform(corpus)\n",
      "feature_names = vectorizer.get_feature_names()"
     ],
     "language": "python",
     "metadata": {},
     "outputs": [],
     "prompt_number": 4
    },
    {
     "cell_type": "markdown",
     "metadata": {},
     "source": [
      "Let us get some intuition for the important features, i.e. the most important words in your profile for deciding whether your work at EnergySavvy or another Seattle startup style company. We quickly train a linear classifier using stochastic gradient descent:"
     ]
    },
    {
     "cell_type": "code",
     "collapsed": false,
     "input": [
      "from sklearn import linear_model\n",
      "\n",
      "clf_sgd = linear_model.SGDClassifier(shuffle=True, n_iter=1)\n",
      "clf_sgd.fit(tfidf[1:], labels[1:]) # start from 1 to ignore me\n",
      "\n",
      "feat_with_weights = zip(feature_names, clf_sgd.coef_[0])\n",
      "ordered_weights = sorted(feat_with_weights, key=lambda x: x[1], reverse=True) "
     ],
     "language": "python",
     "metadata": {},
     "outputs": [],
     "prompt_number": 5
    },
    {
     "cell_type": "markdown",
     "metadata": {},
     "source": [
      "The important weights for the EnergySavvy people make a lot of sense. The most important feature is obviously 'energysavvy'. Of course 'energy', and 'washington' feature quite highly:"
     ]
    },
    {
     "cell_type": "code",
     "collapsed": false,
     "input": [
      "ordered_weights[0:10]"
     ],
     "language": "python",
     "metadata": {},
     "outputs": [
      {
       "output_type": "pyout",
       "prompt_number": 6,
       "text": [
        "[(u'energysavvy', 10.745492406749724),\n",
        " (u'shklovskii', 8.6496598629954988),\n",
        " (u'energy', 8.6214413221117194),\n",
        " (u'drupal', 4.8944251090251853),\n",
        " (u'cookies', 4.1818028714536863),\n",
        " (u'director', 3.8766238963685722),\n",
        " (u'ring', 3.821540647450357),\n",
        " (u'green', 3.7708697660875088),\n",
        " (u'charlie', 3.6561214361869157),\n",
        " (u'front', 3.488991470054549)]"
       ]
      }
     ],
     "prompt_number": 6
    },
    {
     "cell_type": "markdown",
     "metadata": {},
     "source": [
      "Of course features on the other end of the scale capture features of the rest of the companies."
     ]
    },
    {
     "cell_type": "code",
     "collapsed": false,
     "input": [
      "ordered_weights[-10:]"
     ],
     "language": "python",
     "metadata": {},
     "outputs": [
      {
       "output_type": "pyout",
       "prompt_number": 7,
       "text": [
        "[(u'jennifer', -3.8582089940879287),\n",
        " (u'product', -3.8965057905195342),\n",
        " (u'stanford', -3.9112592632587839),\n",
        " (u'alumni', -4.1515417434811406),\n",
        " (u'climate', -4.3444259343738469),\n",
        " (u'quantum', -4.3450830499524091),\n",
        " (u'months', -4.7003354994405449),\n",
        " (u'oxford', -4.8640509086749875),\n",
        " (u'corporation', -5.1114795828670792),\n",
        " (u'redfin', -5.8035791366097715)]"
       ]
      }
     ],
     "prompt_number": 7
    },
    {
     "cell_type": "markdown",
     "metadata": {},
     "source": [
      "### Reducing the dimensionality\n",
      "\n",
      "The data has approximately 5000 features. This is no good for visualizing. We use principal component analysis (PCA) to pick a two dimensional surface that explains the most variance in the data."
     ]
    },
    {
     "cell_type": "code",
     "collapsed": false,
     "input": [
      "from sklearn.decomposition import PCA\n",
      "\n",
      "pca = PCA(n_components=2)\n",
      "reduced_data = pca.fit_transform(tfidf.toarray())"
     ],
     "language": "python",
     "metadata": {},
     "outputs": [],
     "prompt_number": 8
    },
    {
     "cell_type": "markdown",
     "metadata": {},
     "source": [
      "### k-Means\n",
      "\n",
      "The simplest clustering method possible is k-means. The algorithm randomly picks cluster centers then assigns each of the samples to one of the centers. The centroids of the groups are calculated and these are taken as the new cluster centers. The process is repeated. Choosing the number of clusters is the difficult part. We'll try 4 and see what happens."
     ]
    },
    {
     "cell_type": "code",
     "collapsed": false,
     "input": [
      "from sklearn.cluster import KMeans\n",
      "\n",
      "kmeans = KMeans(init='k-means++', n_clusters=4)\n",
      "kmeans.fit(reduced_data[1:])"
     ],
     "language": "python",
     "metadata": {},
     "outputs": [
      {
       "output_type": "pyout",
       "prompt_number": 9,
       "text": [
        "KMeans(copy_x=True, init='k-means++', k=None, max_iter=300, n_clusters=4,\n",
        "    n_init=10, n_jobs=1, precompute_distances=True, random_state=None,\n",
        "    tol=0.0001, verbose=0)"
       ]
      }
     ],
     "prompt_number": 9
    },
    {
     "cell_type": "markdown",
     "metadata": {},
     "source": [
      "Visualizing the data\n",
      "--------------------\n",
      "\n",
      "### Make a grid\n",
      "\n",
      "To visualize the result of k-means we divide our space up into a grid and predict to which group each point belongs."
     ]
    },
    {
     "cell_type": "code",
     "collapsed": false,
     "input": [
      "# Set up a mesh grid, where we'll predict each point\n",
      "h = 0.005\n",
      "x_min, x_max = reduced_data[:, 0].min(), reduced_data[:, 0].max()\n",
      "y_min, y_max = reduced_data[:, 1].min(), reduced_data[:, 1].max()\n",
      "X, Y = np.meshgrid(np.arange(x_min, x_max, h), np.arange(y_min, y_max, h))\n",
      "\n",
      "# Predict which group I belong to\n",
      "me = kmeans.predict(reduced_data[0])\n",
      "\n",
      "# Obtain labels for each point in mesh. Use last trained model.\n",
      "Z = kmeans.predict(np.c_[X.ravel(), Y.ravel()])\n",
      "\n",
      "# Put the result into a color plot\n",
      "Z = Z.reshape(X.shape)"
     ],
     "language": "python",
     "metadata": {},
     "outputs": [],
     "prompt_number": 10
    },
    {
     "cell_type": "markdown",
     "metadata": {},
     "source": [
      "### Plot the data\n",
      "\n",
      "We plot our cluster boundries and label our points etc:"
     ]
    },
    {
     "cell_type": "code",
     "collapsed": false,
     "input": [
      "figure(figsize=(12, 8))\n",
      "#ax = subplot(1,1,1)\n",
      "# The colored background, the result of k-means\n",
      "imshow(Z, interpolation='nearest', \n",
      "       extent=(X.min(), X.max(), Y.min(), Y.max()),\n",
      "       cmap=cm.Paired, aspect='auto', origin='lower')\n",
      "\n",
      "# Plot the  data\n",
      "plot(reduced_data[:, 0], \n",
      "     reduced_data[:, 1], 'k.', markersize=2)\n",
      "\n",
      "# Plot my location\n",
      "plot(reduced_data[labels == 0, 0], \n",
      "     reduced_data[labels == 0, 1], 'r.', markersize=20)\n",
      "text(reduced_data[0, 0], \n",
      "     reduced_data[0, 1], 'David Leen', size=20)\n",
      "\n",
      "# Plot energysavvy as blue\n",
      "p1, = plot(reduced_data[labels == 1, 0], \n",
      "     reduced_data[labels == 1, 1], 'b.', markersize=10)\n",
      "\n",
      "# Plot climatecorp as green\n",
      "p2, = plot(reduced_data[labels == 2, 0], \n",
      "     reduced_data[labels == 2, 1], 'g.', markersize=10)\n",
      "\n",
      "# Plot simply as cyan\n",
      "p3, = plot(reduced_data[labels == 3, 0], \n",
      "     reduced_data[labels == 3, 1], 'c.', markersize=10)\n",
      "\n",
      "# Plot redfin as magenta\n",
      "p4, = plot(reduced_data[labels == 4, 0], \n",
      "     reduced_data[labels == 4, 1], 'm.', markersize=10)\n",
      "\n",
      "# Put names on the energysavvy points\n",
      "for i, n in enumerate(energysavvy_people, start=1):\n",
      "    text(reduced_data[i, 0], \n",
      "         reduced_data[i, 1] + 0.01, n,\n",
      "         horizontalalignment='right')\n",
      "    \n",
      "legend([p1, p2, p3, p4], ['Energy Savvy', \n",
      "    'Climate Corp', \n",
      "    'Simply Measured',\n",
      "    'Redfin'], loc=4, numpoints=1)\n",
      "\n",
      "title('Fit-O-Meter based on employee\\'s linkedin.com profiles \\n'\n",
      "        'using K-means clustering', size=20)\n",
      "xlim(x_min, x_max-0.01), ylim(y_min, y_max), xticks(()), yticks(())\n",
      "tight_layout()\n",
      "show()"
     ],
     "language": "python",
     "metadata": {},
     "outputs": [
      {
       "output_type": "display_data",
       "png": "[encoded data removed]"
      }
     ],
     "prompt_number": 11
    },
    {
     "cell_type": "markdown",
     "metadata": {},
     "source": [
      "Here we see the results of our clustering. k-means does a pretty good job of grouping the companies correctly. The solid polygons denote the decision boundaries, the colored points are the actual data. We see Climate Corp on the upper left, Energy Savvy is approximately in the center, Simply Measured is on the right and Redfin is on the bottom. My profile indicates I fit into the EnergySavvy group :)"
     ]
    }
   ],
   "metadata": {}
  }
 ]
}