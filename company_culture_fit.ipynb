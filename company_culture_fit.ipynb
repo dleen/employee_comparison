{
 "metadata": {
  "name": "company_culture_fit"
 },
 "nbformat": 3,
 "nbformat_minor": 0,
 "worksheets": [
  {
   "cells": [
    {
     "cell_type": "markdown",
     "metadata": {},
     "source": [
      "Company culture fit\n",
      "===================\n",
      "\n",
      "Where do I fit in compared to your employees linkedin.com profiles?"
     ]
    },
    {
     "cell_type": "markdown",
     "metadata": {},
     "source": [
      "Getting the data\n",
      "----------------\n",
      "\n",
      "### Linkedin.com parser\n",
      "\n",
      "First we import a parser and some small helper functions for linkedin public profiles:"
     ]
    },
    {
     "cell_type": "code",
     "collapsed": false,
     "input": [
      "from linkedin import linkedin_parser as lp\n",
      "from linkedin import linkedin_helpers as lh"
     ],
     "language": "python",
     "metadata": {},
     "outputs": [],
     "prompt_number": 21
    },
    {
     "cell_type": "markdown",
     "metadata": {},
     "source": [
      "### List of employees\n",
      "\n",
      "Let's make a list of employees with at least a resonably complete linkedin.com profile page:"
     ]
    },
    {
     "cell_type": "code",
     "collapsed": false,
     "input": [
      "from employee_data import redfin as rf\n",
      "from employee_data import climate_corp as cc\n",
      "from employee_data import simply_measured as sm\n",
      "from employee_data import random_people as rd"
     ],
     "language": "python",
     "metadata": {},
     "outputs": [],
     "prompt_number": 22
    },
    {
     "cell_type": "markdown",
     "metadata": {},
     "source": [
      "For example, here are some redfin people and their urls:"
     ]
    },
    {
     "cell_type": "code",
     "collapsed": false,
     "input": [
      "zip(rf.redfin_people, rf.redfin_urls)[0:5]"
     ],
     "language": "python",
     "metadata": {},
     "outputs": [
      {
       "output_type": "pyout",
       "prompt_number": 23,
       "text": [
        "[('Mark Carr', 'http://www.linkedin.com/in/markcarr'),\n",
        " ('Jim Lamb', 'http://www.linkedin.com/in/jimplamb'),\n",
        " ('Krystin Tate', 'http://www.linkedin.com/in/krystin'),\n",
        " ('Andy Taylor', 'http://www.linkedin.com/in/andyataylor'),\n",
        " ('Taylor Connolly', 'http://www.linkedin.com/in/taylorconnolly')]"
       ]
      }
     ],
     "prompt_number": 23
    },
    {
     "cell_type": "markdown",
     "metadata": {},
     "source": [
      "### Creating the corpus:\n",
      "\n",
      "Pick the companies we want to analyize and write the words used in the linkedin.com profile into a text file of features:"
     ]
    },
    {
     "cell_type": "code",
     "collapsed": false,
     "input": [
      "my_url = ['http://www.linkedin.com/in/dleen']\n",
      "company_urls = [my_url,\n",
      "                rf.redfin_urls,\n",
      "                #cc.climate_corp_urls,\n",
      "                sm.simply_measured_urls,\n",
      "                #rd.random_urls\n",
      "                ]  \n",
      "\n",
      "file_name = 'people_no_cc.txt'\n",
      "\n",
      "try:\n",
      "    with open(file_name): print(\"File exists! Don't do anything.\")\n",
      "except IOError:\n",
      "    print(\"Writing the corpus (may take a few minutes)\")\n",
      "    with open(file_name, 'w') as f:\n",
      "        for i, u in enumerate(company_urls, start=0):\n",
      "            lh.write_linkedin_data(f, i, u)\n",
      "    \n",
      "\n",
      "from IPython.core.display import clear_output\n",
      "clear_output()"
     ],
     "language": "python",
     "metadata": {},
     "outputs": [],
     "prompt_number": 24
    },
    {
     "cell_type": "markdown",
     "metadata": {},
     "source": [
      "Analyzing the employees\n",
      "-----------------------\n",
      "\n",
      "### Tfidf"
     ]
    },
    {
     "cell_type": "code",
     "collapsed": false,
     "input": [
      "from sklearn.feature_extraction.text import TfidfVectorizer\n",
      "\n",
      "with open(file_name, 'r') as f:\n",
      "    corpus = []\n",
      "    labels = []\n",
      "    for line in f:\n",
      "        labels.append(int(line[0]))\n",
      "        corpus.append(line[2:])\n",
      "        \n",
      "vectorizer = TfidfVectorizer(min_df=1)\n",
      "tfidf = vectorizer.fit_transform(corpus)\n",
      "feature_names = vectorizer.get_feature_names()\n",
      "labels = np.array(labels) "
     ],
     "language": "python",
     "metadata": {},
     "outputs": [],
     "prompt_number": 25
    },
    {
     "cell_type": "code",
     "collapsed": false,
     "input": [
      "import itertools\n",
      "\n",
      "a = itertools.izip(feature_names, tfidf.data)\n",
      "b = sorted(a, key=lambda x: x[1], reverse=True) \n",
      "print b[:5]\n"
     ],
     "language": "python",
     "metadata": {},
     "outputs": [
      {
       "output_type": "stream",
       "stream": "stdout",
       "text": [
        "[(u'scheduled', 0.40630722303866024), (u'scientific', 0.39861543743473749), (u'screening', 0.39861543743473749), (u'presented', 0.38695896347159098), (u'private', 0.38695896347159098)]"
       ]
      },
      {
       "output_type": "stream",
       "stream": "stdout",
       "text": [
        "\n"
       ]
      }
     ],
     "prompt_number": 26
    },
    {
     "cell_type": "markdown",
     "metadata": {},
     "source": [
      "### PCA"
     ]
    },
    {
     "cell_type": "code",
     "collapsed": false,
     "input": [
      "from sklearn.decomposition import PCA\n",
      "\n",
      "pca = PCA(n_components=2)\n",
      "reduced_data = pca.fit_transform(tfidf.toarray())\n",
      "\n",
      "reduced_data[0:5]"
     ],
     "language": "python",
     "metadata": {},
     "outputs": [
      {
       "output_type": "pyout",
       "prompt_number": 27,
       "text": [
        "array([[ 0.04158057, -0.01092791],\n",
        "       [ 0.14819591,  0.11031643],\n",
        "       [-0.26879758,  0.14474252],\n",
        "       [ 0.26262161,  0.43848218],\n",
        "       [-0.30849153, -0.13989255]])"
       ]
      }
     ],
     "prompt_number": 27
    },
    {
     "cell_type": "markdown",
     "metadata": {},
     "source": [
      "### k-Means"
     ]
    },
    {
     "cell_type": "code",
     "collapsed": false,
     "input": [
      "from sklearn.cluster import KMeans\n",
      "\n",
      "kmeans = KMeans(init='k-means++', n_clusters=3)\n",
      "kmeans.fit(reduced_data)"
     ],
     "language": "python",
     "metadata": {},
     "outputs": [
      {
       "output_type": "pyout",
       "prompt_number": 28,
       "text": [
        "KMeans(copy_x=True, init='k-means++', k=None, max_iter=300, n_clusters=2,\n",
        "    n_init=10, n_jobs=1, precompute_distances=True, random_state=None,\n",
        "    tol=0.0001, verbose=0)"
       ]
      }
     ],
     "prompt_number": 28
    },
    {
     "cell_type": "markdown",
     "metadata": {},
     "source": [
      "Visualizing the data\n",
      "--------------------\n",
      "\n",
      "### Make a grid"
     ]
    },
    {
     "cell_type": "code",
     "collapsed": false,
     "input": [
      "# Step size of the mesh. Decrease to increase the quality of the VQ.\n",
      "h = 0.01     # point in the mesh [x_min, m_max]x[y_min, y_max].\n",
      "\n",
      "# Plot the decision boundary. For that, we will asign a color to each\n",
      "x_min, x_max = reduced_data[:, 0].min() - 0.1, reduced_data[:, 0].max() + 0.1\n",
      "y_min, y_max = reduced_data[:, 1].min() - 0.1, reduced_data[:, 1].max() + 0.1\n",
      "X, Y = np.meshgrid(np.arange(x_min, x_max, h), np.arange(y_min, y_max, h))\n",
      "\n",
      "# Obtain labels for each point in mesh. Use last trained model.\n",
      "Z = kmeans.predict(np.c_[X.ravel(), Y.ravel()])\n",
      "\n",
      "# Put the result into a color plot\n",
      "Z = Z.reshape(X.shape)"
     ],
     "language": "python",
     "metadata": {},
     "outputs": [],
     "prompt_number": 29
    },
    {
     "cell_type": "markdown",
     "metadata": {},
     "source": [
      "### Plot the data"
     ]
    },
    {
     "cell_type": "code",
     "collapsed": false,
     "input": [
      "figure(figsize=(12, 12))\n",
      "clf()\n",
      "imshow(Z, interpolation='nearest',\n",
      "          extent=(X.min(), X.max(), Y.min(), Y.max()),\n",
      "          cmap=cm.Paired,\n",
      "          aspect='auto', origin='lower')\n",
      "\n",
      "plot(reduced_data[:, 0], reduced_data[:, 1], 'k.', markersize=2)\n",
      "# Plot the centroids as a white X\n",
      "centroids = kmeans.cluster_centers_\n",
      "scatter(centroids[:, 0], centroids[:, 1],\n",
      "           marker='x', s=169, linewidths=3,\n",
      "           color='w', zorder=10)\n",
      "\n",
      "plot(reduced_data[labels == 0, 0],\n",
      "        reduced_data[labels == 0, 1], 'r.', markersize=10)\n",
      "text(reduced_data[0, 0], reduced_data[0, 1], 'David Leen')\n",
      "\n",
      "plot(reduced_data[labels == 1, 0],\n",
      "        reduced_data[labels == 1, 1], 'b.', markersize=5)\n",
      "plot(reduced_data[labels == 2, 0],\n",
      "        reduced_data[labels == 2, 1], 'g.', markersize=5)\n",
      "plot(reduced_data[labels == 3, 0],\n",
      "        reduced_data[labels == 3, 1], 'c.', markersize=5)\n",
      "\n",
      "for i, n in enumerate(sm.simply_measured_people, start=1):\n",
      "    text(reduced_data[i, 0], reduced_data[i, 1], n)\n",
      "\n",
      "title('K-means clustering on the digits dataset (PCA-reduced data)\\n'\n",
      "      'Centroids are marked with white cross')\n",
      "xlim(x_min, x_max), ylim(y_min, y_max)\n",
      "xticks(()), yticks(())\n",
      "show()"
     ],
     "language": "python",
     "metadata": {},
     "outputs": [
      {
       "output_type": "display_data",
       "png": "[encoded data removed]"
      }
     ],
     "prompt_number": 30
    },
    {
     "cell_type": "code",
     "collapsed": false,
     "input": [],
     "language": "python",
     "metadata": {},
     "outputs": [],
     "prompt_number": 30
    }
   ],
   "metadata": {}
  }
 ]
}