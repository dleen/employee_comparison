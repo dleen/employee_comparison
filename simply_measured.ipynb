{
 "metadata": {
  "name": "simply_measured"
 },
 "nbformat": 3,
 "nbformat_minor": 0,
 "worksheets": [
  {
   "cells": [
    {
     "cell_type": "markdown",
     "metadata": {},
     "source": [
      "Company culture fit\n",
      "===================\n",
      "\n",
      "I was wondering where I would fit in compared to the rest of the team at Simply Measured. Can we learn something from Simply Measured employee's linkedin.com profiles?\n",
      "\n",
      "I grabbed some information from other Seattle area startups for comparison.\n",
      "\n",
      "*Scroll to the bottom for the results!* Or read on for the methodology..."
     ]
    },
    {
     "cell_type": "markdown",
     "metadata": {},
     "source": [
      "Grabbing the data\n",
      "----------------\n",
      "\n",
      "### List of employees and Linkedin.com parser\n",
      "\n",
      "First we import a parser and some small helper functions for parsing linkedin public profiles (i.e. urls of the form http://www.linkedin.com/in/username)\n",
      "\n",
      "Let's make a list of employees with at least a resonably complete linkedin.com profile page (we'll use import * as there is nothing but names and urls in the employee_data folder):"
     ]
    },
    {
     "cell_type": "code",
     "collapsed": false,
     "input": [
      "from linkedin import linkedin_parser as lp\n",
      "from linkedin import linkedin_helpers as lh\n",
      "\n",
      "from employee_data.climate_corp import *\n",
      "from employee_data.simply_measured import *\n",
      "from employee_data.redfin import *\n",
      "from employee_data.random_people import *"
     ],
     "language": "python",
     "metadata": {},
     "outputs": [],
     "prompt_number": 1
    },
    {
     "cell_type": "markdown",
     "metadata": {},
     "source": [
      "For example, here are some Simply Measured people and their urls:"
     ]
    },
    {
     "cell_type": "code",
     "collapsed": false,
     "input": [
      "zip(simply_measured_people, simply_measured_urls)[0:5]"
     ],
     "language": "python",
     "metadata": {},
     "outputs": [
      {
       "output_type": "pyout",
       "prompt_number": 2,
       "text": [
        "[('Adam Schoenfeld', 'http://www.linkedin.com/in/adamschoenfeld'),\n",
        " ('Lauren Berry', 'http://www.linkedin.com/in/alaurenberry'),\n",
        " ('Katie Ferris', 'http://www.linkedin.com/in/katieferris'),\n",
        " ('Heather Dooley', 'http://www.linkedin.com/in/heatherdooley'),\n",
        " ('Colin Henry', 'http://www.linkedin.com/in/jchenry')]"
       ]
      }
     ],
     "prompt_number": 2
    },
    {
     "cell_type": "markdown",
     "metadata": {},
     "source": [
      "### Creating the corpus:\n",
      "\n",
      "We create the data by reading the users linkedin.com profile and write each user as a line:"
     ]
    },
    {
     "cell_type": "code",
     "collapsed": false,
     "input": [
      "my_url = ['http://www.linkedin.com/in/dleen']\n",
      "company_urls = [my_url, simply_measured_urls, climate_corp_urls, \n",
      "                 redfin_urls]\n",
      "\n",
      "file_name = 'people_sm_norand.txt'\n",
      "\n",
      "try:\n",
      "    with open(file_name): print(\"File exists! Don't do anything.\")\n",
      "except IOError:\n",
      "    print(\"Writing the corpus (may take a few minutes)\")\n",
      "    with open(file_name, 'w') as f:\n",
      "        for i, c in enumerate(company_urls, start=0):\n",
      "            # this function does the profile parsing\n",
      "            lh.write_linkedin_data(f, i, c)\n",
      "\n",
      "from IPython.core.display import clear_output\n",
      "clear_output()"
     ],
     "language": "python",
     "metadata": {},
     "outputs": [],
     "prompt_number": 3
    },
    {
     "cell_type": "markdown",
     "metadata": {},
     "source": [
      "Analyzing the employees\n",
      "-----------------------\n",
      "\n",
      "### Tfidf and weight analysis\n",
      "\n",
      "To convert the text features into a more informative format we term-frequency inverse-document-frequency to weight the more important terms appearing the corpus. For example: if the word 'career' appears in every single document, which it might being linkedin profiles, then the tfidf weighting of this word will be zero."
     ]
    },
    {
     "cell_type": "code",
     "collapsed": false,
     "input": [
      "from sklearn.feature_extraction.text import TfidfVectorizer\n",
      "\n",
      "with open(file_name, 'r') as f:\n",
      "    corpus = []\n",
      "    labels = []\n",
      "    for line in f:\n",
      "        labels.append(int(line[0]))\n",
      "        corpus.append(line[2:])\n",
      "        \n",
      "labels = np.array(labels)\n",
      "vectorizer = TfidfVectorizer(min_df=1)\n",
      "tfidf = vectorizer.fit_transform(corpus)\n",
      "feature_names = vectorizer.get_feature_names()"
     ],
     "language": "python",
     "metadata": {},
     "outputs": [],
     "prompt_number": 4
    },
    {
     "cell_type": "markdown",
     "metadata": {},
     "source": [
      "Let us get some intuition for the important features, i.e. the most important words in your profile for deciding whether your work at EnergySavvy or another Seattle startup style company. We quickly train a linear classifier using stochastic gradient descent:"
     ]
    },
    {
     "cell_type": "code",
     "collapsed": false,
     "input": [
      "from sklearn import linear_model\n",
      "\n",
      "clf_sgd = linear_model.SGDClassifier(shuffle=True, n_iter=3)\n",
      "clf_sgd.fit(tfidf[1:], labels[1:]) # start from 1 to ignore me\n",
      "\n",
      "feat_with_weights = zip(feature_names, clf_sgd.coef_[0])\n",
      "ordered_weights = sorted(feat_with_weights, key=lambda x: x[1], reverse=True) "
     ],
     "language": "python",
     "metadata": {},
     "outputs": [],
     "prompt_number": 24
    },
    {
     "cell_type": "markdown",
     "metadata": {},
     "source": [
      "The important weights for the EnergySavvy people make a lot of sense. The most important feature is obviously 'energysavvy'. Of course 'energy', and 'washington' feature quite highly:"
     ]
    },
    {
     "cell_type": "code",
     "collapsed": false,
     "input": [
      "ordered_weights[0:10]"
     ],
     "language": "python",
     "metadata": {},
     "outputs": [
      {
       "output_type": "pyout",
       "prompt_number": 25,
       "text": [
        "[(u'measured', 10.684751042296961),\n",
        " (u'simply', 10.684751042296961),\n",
        " (u'marketing', 4.5754800084332841),\n",
        " (u'designer', 4.3538453681919824),\n",
        " (u'greater', 4.1601540365727425),\n",
        " (u'worthington', 4.1537741810902444),\n",
        " (u'media', 3.7657541450490419),\n",
        " (u'seattle', 3.2265211091382637),\n",
        " (u'social', 2.8970264390146632),\n",
        " (u'increased', 2.814973512683705)]"
       ]
      }
     ],
     "prompt_number": 25
    },
    {
     "cell_type": "markdown",
     "metadata": {},
     "source": [
      "Of course features on the other end of the scale capture features of the rest of the companies."
     ]
    },
    {
     "cell_type": "code",
     "collapsed": false,
     "input": [
      "ordered_weights[-10:]"
     ],
     "language": "python",
     "metadata": {},
     "outputs": [
      {
       "output_type": "pyout",
       "prompt_number": 26,
       "text": [
        "[(u'website', -3.1367894662600597),\n",
        " (u'real', -3.1534478297093509),\n",
        " (u'corporation', -3.3136793003790772),\n",
        " (u'human', -3.3232373780289657),\n",
        " (u'california', -3.7374722032733962),\n",
        " (u'with', -3.8705119709433502),\n",
        " (u'berkeley', -4.5281560550280258),\n",
        " (u'climate', -5.5568578056086908),\n",
        " (u'francisco', -6.6092608657670855),\n",
        " (u'redfin', -7.8989943343230085)]"
       ]
      }
     ],
     "prompt_number": 26
    },
    {
     "cell_type": "markdown",
     "metadata": {},
     "source": [
      "### Reducing the dimensionality\n",
      "\n",
      "The data has approximately 5000 features. This is no good for visualizing. We use principal component analysis (PCA) to pick a two dimensional surface that explains the most variance in the data."
     ]
    },
    {
     "cell_type": "code",
     "collapsed": false,
     "input": [
      "from sklearn.decomposition import PCA\n",
      "\n",
      "pca = PCA(n_components=2)\n",
      "reduced_data = pca.fit_transform(tfidf.toarray())"
     ],
     "language": "python",
     "metadata": {},
     "outputs": [],
     "prompt_number": 8
    },
    {
     "cell_type": "markdown",
     "metadata": {},
     "source": [
      "### k-Means\n",
      "\n",
      "The simplest clustering method possible is k-means. The algorithm randomly picks cluster centers then assigns each of the samples to one of the centers. The centroids of the groups are calculated and these are taken as the new cluster centers. The process is repeated. Choosing the number of clusters is the difficult part. We'll try 4 and see what happens."
     ]
    },
    {
     "cell_type": "code",
     "collapsed": false,
     "input": [
      "from sklearn.cluster import KMeans\n",
      "\n",
      "kmeans = KMeans(init='k-means++', n_clusters=3)\n",
      "kmeans.fit(reduced_data[1:])"
     ],
     "language": "python",
     "metadata": {},
     "outputs": [
      {
       "output_type": "pyout",
       "prompt_number": 18,
       "text": [
        "KMeans(copy_x=True, init='k-means++', k=None, max_iter=300, n_clusters=3,\n",
        "    n_init=10, n_jobs=1, precompute_distances=True, random_state=None,\n",
        "    tol=0.0001, verbose=0)"
       ]
      }
     ],
     "prompt_number": 18
    },
    {
     "cell_type": "markdown",
     "metadata": {},
     "source": [
      "Visualizing the data\n",
      "--------------------\n",
      "\n",
      "### Make a grid\n",
      "\n",
      "To visualize the result of k-means we divide our space up into a grid and predict to which group each point belongs."
     ]
    },
    {
     "cell_type": "code",
     "collapsed": false,
     "input": [
      "# Set up a mesh grid, where we'll predict each point\n",
      "h = 0.005\n",
      "x_min, x_max = reduced_data[:, 0].min(), reduced_data[:, 0].max()\n",
      "y_min, y_max = reduced_data[:, 1].min(), reduced_data[:, 1].max()\n",
      "X, Y = np.meshgrid(np.arange(x_min, x_max, h), np.arange(y_min, y_max, h))\n",
      "\n",
      "# Predict which group I belong to\n",
      "me = kmeans.predict(reduced_data[0])\n",
      "\n",
      "# Obtain labels for each point in mesh. Use last trained model.\n",
      "Z = kmeans.predict(np.c_[X.ravel(), Y.ravel()])\n",
      "\n",
      "# Put the result into a color plot\n",
      "Z = Z.reshape(X.shape)"
     ],
     "language": "python",
     "metadata": {},
     "outputs": [],
     "prompt_number": 19
    },
    {
     "cell_type": "markdown",
     "metadata": {},
     "source": [
      "### Plot the data\n",
      "\n",
      "We plot our cluster boundries and label our points etc:"
     ]
    },
    {
     "cell_type": "code",
     "collapsed": false,
     "input": [
      "figure(figsize=(12, 8))\n",
      "#ax = subplot(1,1,1)\n",
      "# The colored background, the result of k-means\n",
      "imshow(Z, interpolation='nearest', \n",
      "       extent=(X.min(), X.max(), Y.min(), Y.max()),\n",
      "       cmap=cm.Paired, aspect='auto', origin='lower')\n",
      "\n",
      "# Plot the  data\n",
      "plot(reduced_data[:, 0], \n",
      "     reduced_data[:, 1], 'k.', markersize=2)\n",
      "\n",
      "# Plot my location\n",
      "plot(reduced_data[labels == 0, 0], \n",
      "     reduced_data[labels == 0, 1], 'r.', markersize=20)\n",
      "text(reduced_data[0, 0], \n",
      "     reduced_data[0, 1], 'David Leen', size=20)\n",
      "\n",
      "# Plot simply_measured as blue\n",
      "p1, = plot(reduced_data[labels == 1, 0], \n",
      "     reduced_data[labels == 1, 1], 'b.', markersize=10)\n",
      "\n",
      "# Plot climatecorp as green\n",
      "p2, = plot(reduced_data[labels == 2, 0], \n",
      "     reduced_data[labels == 2, 1], 'g.', markersize=10)\n",
      "\n",
      "# Plot redfin as magenta\n",
      "p3, = plot(reduced_data[labels == 3, 0], \n",
      "     reduced_data[labels == 3, 1], 'm.', markersize=10)\n",
      "\n",
      "# Put names on the simply_measured points\n",
      "for i, n in enumerate(simply_measured_people, start=1):\n",
      "    text(reduced_data[i, 0], \n",
      "         reduced_data[i, 1] + 0.01, n,\n",
      "         horizontalalignment='right')\n",
      "    \n",
      "legend([p1, p2, p3], ['Simply Measured', 'Climate Corp', \n",
      "    'Redfin'], loc=4, numpoints=1)\n",
      "\n",
      "title('Fit-O-Meter based on employee\\'s linkedin.com profiles \\n'\n",
      "        'using K-means clustering', size=20)\n",
      "xlim(x_min, x_max-0.01), ylim(y_min, y_max), xticks(()), yticks(())\n",
      "tight_layout()\n",
      "show()"
     ],
     "language": "python",
     "metadata": {},
     "outputs": [
      {
       "output_type": "display_data",
       "png": "[encoded data removed]"
      }
     ],
     "prompt_number": 20
    },
    {
     "cell_type": "markdown",
     "metadata": {},
     "source": [
      "Here we see the results of our clustering. k-means does a pretty good job of grouping the companies correctly. The solid polygons denote the decision boundaries, the colored points are the actual data. We see Climate Corp on the upper left, Energy Savvy is approximately in the center, Simply Measured is on the right and Redfin is on the bottom. My profile indicates I fit into the EnergySavvy group :)"
     ]
    }
   ],
   "metadata": {}
  }
 ]
}